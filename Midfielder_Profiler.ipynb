{
  "nbformat": 4,
  "nbformat_minor": 0,
  "metadata": {
    "colab": {
      "provenance": []
    },
    "kernelspec": {
      "name": "python3",
      "display_name": "Python 3"
    },
    "language_info": {
      "name": "python"
    }
  },
  "cells": [
    {
      "cell_type": "code",
      "execution_count": 1,
      "metadata": {
        "colab": {
          "base_uri": "https://localhost:8080/"
        },
        "id": "3jGTWF-zmHcv",
        "outputId": "a6f657f8-0dd9-465b-9f2b-b9e0a98ca1cd"
      },
      "outputs": [
        {
          "output_type": "stream",
          "name": "stdout",
          "text": [
            "Failed with encoding: utf-8\n",
            "File successfully loaded with encoding: ISO-8859-1\n",
            "   Rk             Player Nation Pos          Squad            Comp   Age  \\\n",
            "0   1         Max Aarons    ENG  DF   Norwich City  Premier League  22.0   \n",
            "1   2   Yunis Abdelhamid    MAR  DF          Reims         Ligue 1  34.0   \n",
            "2   3  Salis Abdul Samed    GHA  MF  Clermont Foot         Ligue 1  22.0   \n",
            "3   4    Laurent Abergel    FRA  MF        Lorient         Ligue 1  29.0   \n",
            "4   5        Charles Abi    FRA  FW  Saint-Étienne         Ligue 1  22.0   \n",
            "\n",
            "   Born  MP  Starts  ...   Off   Crs  TklW  PKwon  PKcon    OG  Recov  AerWon  \\\n",
            "0  2000  30      28  ...  0.04  1.46  1.29    0.0   0.07  0.04   5.46    0.50   \n",
            "1  1987  31      31  ...  0.00  0.03  1.36    0.0   0.00  0.00   6.91    2.09   \n",
            "2  2000  30      28  ...  0.00  0.38  1.24    0.0   0.00  0.00   8.68    0.86   \n",
            "3  1993  31      31  ...  0.03  0.76  2.29    0.0   0.00  0.00   9.10    0.40   \n",
            "4  2000   1       1  ...  0.00  2.00  0.00    0.0   0.00  0.00   4.00    2.00   \n",
            "\n",
            "   AerLost  AerWon%  \n",
            "0     1.61     23.7  \n",
            "1     1.36     60.6  \n",
            "2     0.90     48.9  \n",
            "3     0.43     48.0  \n",
            "4     0.00    100.0  \n",
            "\n",
            "[5 rows x 143 columns]\n"
          ]
        }
      ],
      "source": [
        "#Importing the data\n",
        "import pandas as pd\n",
        "\n",
        "\n",
        "file_path = \"/content/2021-2022 Football Player Stats.csv\"\n",
        "\n",
        "try_encodings = [\"utf-8\", \"ISO-8859-1\", \"latin1\", \"cp1252\"]\n",
        "\n",
        "for encoding in try_encodings:\n",
        "    try:\n",
        "        data = pd.read_csv(file_path, sep=\";\", encoding=encoding)\n",
        "        print(f\"File successfully loaded with encoding: {encoding}\")\n",
        "        break\n",
        "    except UnicodeDecodeError:\n",
        "        print(f\"Failed with encoding: {encoding}\")\n",
        "\n",
        "# Display the first few rows of the DataFrame to verify the data\n",
        "print(data.head())\n"
      ]
    },
    {
      "cell_type": "code",
      "source": [
        "#Selecting only PL data\n",
        "pl = data[data['Comp'] == 'Premier League']\n"
      ],
      "metadata": {
        "id": "Sq8Py5ESpJ7B"
      },
      "execution_count": 2,
      "outputs": []
    },
    {
      "cell_type": "code",
      "source": [
        "colsnames=list(data.columns)\n",
        "print(colsnames)"
      ],
      "metadata": {
        "colab": {
          "base_uri": "https://localhost:8080/"
        },
        "id": "Y_tT6Gbtr-q7",
        "outputId": "f33f03e9-736e-4d87-b76f-4ca2e24844b5"
      },
      "execution_count": 3,
      "outputs": [
        {
          "output_type": "stream",
          "name": "stdout",
          "text": [
            "['Rk', 'Player', 'Nation', 'Pos', 'Squad', 'Comp', 'Age', 'Born', 'MP', 'Starts', 'Min', '90s', 'Goals', 'Shots', 'SoT', 'SoT%', 'G/Sh', 'G/SoT', 'ShoDist', 'ShoFK', 'ShoPK', 'PKatt', 'PasTotCmp', 'PasTotAtt', 'PasTotCmp%', 'PasTotDist', 'PasTotPrgDist', 'PasShoCmp', 'PasShoAtt', 'PasShoCmp%', 'PasMedCmp', 'PasMedAtt', 'PasMedCmp%', 'PasLonCmp', 'PasLonAtt', 'PasLonCmp%', 'Assists', 'PasAss', 'Pas3rd', 'PPA', 'CrsPA', 'PasProg', 'PasAtt', 'PasLive', 'PasDead', 'PasFK', 'TB', 'PasPress', 'Sw', 'PasCrs', 'CK', 'CkIn', 'CkOut', 'CkStr', 'PasGround', 'PasLow', 'PasHigh', 'PaswLeft', 'PaswRight', 'PaswHead', 'TI', 'PaswOther', 'PasCmp', 'PasOff', 'PasOut', 'PasInt', 'PasBlocks', 'SCA', 'ScaPassLive', 'ScaPassDead', 'ScaDrib', 'ScaSh', 'ScaFld', 'ScaDef', 'GCA', 'GcaPassLive', 'GcaPassDead', 'GcaDrib', 'GcaSh', 'GcaFld', 'GcaDef', 'Tkl', 'TklWon', 'TklDef3rd', 'TklMid3rd', 'TklAtt3rd', 'TklDri', 'TklDriAtt', 'TklDri%', 'TklDriPast', 'Press', 'PresSucc', 'Press%', 'PresDef3rd', 'PresMid3rd', 'PresAtt3rd', 'Blocks', 'BlkSh', 'BlkShSv', 'BlkPass', 'Int', 'Tkl+Int', 'Clr', 'Err', 'Touches', 'TouDefPen', 'TouDef3rd', 'TouMid3rd', 'TouAtt3rd', 'TouAttPen', 'TouLive', 'DriSucc', 'DriAtt', 'DriSucc%', 'DriPast', 'DriMegs', 'Carries', 'CarTotDist', 'CarPrgDist', 'CarProg', 'Car3rd', 'CPA', 'CarMis', 'CarDis', 'RecTarg', 'Rec', 'Rec%', 'RecProg', 'CrdY', 'CrdR', '2CrdY', 'Fls', 'Fld', 'Off', 'Crs', 'TklW', 'PKwon', 'PKcon', 'OG', 'Recov', 'AerWon', 'AerLost', 'AerWon%']\n"
          ]
        }
      ]
    },
    {
      "cell_type": "code",
      "source": [
        "#Selectig only PL midfielders, who have played more than 11 90s\n",
        "plmf = pl[pl['Pos'] == 'MF']\n",
        "plmf = plmf.drop(plmf.columns[6:11], axis=1)\n",
        "mdfp = plmf[plmf['90s'] > 11]"
      ],
      "metadata": {
        "id": "MntKs-BvpZr9"
      },
      "execution_count": 4,
      "outputs": []
    },
    {
      "cell_type": "code",
      "source": [
        "#Scaling the data\n",
        "from sklearn.preprocessing import StandardScaler\n",
        "plmf_scale = StandardScaler().fit_transform(plmf.iloc[:, 6:])\n"
      ],
      "metadata": {
        "id": "7tfzxYW5stev"
      },
      "execution_count": 5,
      "outputs": []
    },
    {
      "cell_type": "code",
      "source": [
        "#print(list(ht.columns))"
      ],
      "metadata": {
        "id": "XIRVVW3B2YOS"
      },
      "execution_count": 6,
      "outputs": []
    },
    {
      "cell_type": "code",
      "source": [
        "#Preparing data for modelling\n",
        "plmd = mdfp.drop(mdfp.columns[[6, 133, 124, 55, 46, 47, 48, 41, 16]], axis=1)\n",
        "ht= plmd.drop(plmd.columns[[13,14,39,42,43,44,45,46,47,48,49,52,53,86,99,100,101,102,103,112,114,91,117,78,79,80,81,82,83]], axis=1)"
      ],
      "metadata": {
        "id": "C54AJxnxtyqd"
      },
      "execution_count": 24,
      "outputs": []
    },
    {
      "cell_type": "code",
      "source": [
        "#from sklearn.preprocessing import StandardScaler\n",
        "#ht_scale = StandardScaler().fit_transform(ht.iloc[:, 6:])"
      ],
      "metadata": {
        "id": "2a7fCYXjBHFa"
      },
      "execution_count": 8,
      "outputs": []
    },
    {
      "cell_type": "code",
      "source": [
        "from sklearn.preprocessing import MinMaxScaler\n",
        "\n",
        "columns_to_normalize = ht.columns[6:]\n",
        "\n",
        "# Apply MinMaxScaler to the selected columns\n",
        "scaler = MinMaxScaler()\n",
        "ht_scale = scaler.fit_transform(ht.loc[:, columns_to_normalize])\n",
        "\n"
      ],
      "metadata": {
        "id": "Vee4km-Qubk8"
      },
      "execution_count": 25,
      "outputs": []
    },
    {
      "cell_type": "code",
      "source": [
        "from sklearn.cluster import KMeans\n",
        "import matplotlib.pyplot as plt\n",
        "import seaborn as sns\n",
        "from sklearn.preprocessing import StandardScaler\n",
        "\n",
        "\n",
        "seed=42\n",
        "\n",
        "# Performing k-means clustering\n",
        "clmd_4 = KMeans(n_clusters=4, n_init=100).fit(ht_scale)\n",
        "\n",
        "# Cluster centers\n",
        "cluster_centers = clmd_4.cluster_centers_\n",
        "\n",
        "# Visualizing the clusters using cluster centers\n",
        "sns.set(style=\"whitegrid\")\n",
        "plt.figure(figsize=(10, 6))\n",
        "sns.scatterplot(x=ht_scale[:, 0], y=ht_scale[:, 1], hue=clmd_4.labels_, palette=\"viridis\", s=50)\n",
        "sns.scatterplot(x=cluster_centers[:, 0], y=cluster_centers[:, 1], marker='X', s=200, color='red')\n",
        "plt.title('K-Means Clustering (k=4)')\n",
        "plt.show()\n",
        "\n",
        "# Add the cluster labels to the original DataFrame\n",
        "ht['clmd_4'] = clmd_4.labels_\n",
        "\n",
        "\n",
        "\n",
        "\n"
      ],
      "metadata": {
        "colab": {
          "base_uri": "https://localhost:8080/",
          "height": 540
        },
        "id": "mCO2UfnXB8kl",
        "outputId": "a8a5643e-efeb-4170-a07b-3466e20f45cb"
      },
      "execution_count": 26,
      "outputs": [
        {
          "output_type": "display_data",
          "data": {
            "text/plain": [
              "<Figure size 1000x600 with 1 Axes>"
            ],
            "image/png": "[encoded data removed]"
          },
          "metadata": {}
        }
      ]
    },
    {
      "cell_type": "code",
      "source": [
        "#Adding the player and clmd_4 columns to the scaled data\n",
        "ht_scale = pd.DataFrame(ht_scale, columns=ht.columns[6:-1])\n",
        "ht_scale['Player'] = ht['Player'].values\n",
        "ht_scale['clmd_4'] = ht['clmd_4'].values"
      ],
      "metadata": {
        "id": "l5Lz5Kx8kS2i"
      },
      "execution_count": 33,
      "outputs": []
    },
    {
      "cell_type": "code",
      "source": [
        "print(list(ht_scale.columns))"
      ],
      "metadata": {
        "colab": {
          "base_uri": "https://localhost:8080/"
        },
        "id": "mXY8QIWb_6Wk",
        "outputId": "63cb2229-1b44-4f53-cb36-0981c8a324e0"
      },
      "execution_count": 34,
      "outputs": [
        {
          "output_type": "stream",
          "name": "stdout",
          "text": [
            "['Goals', 'Shots', 'SoT', 'SoT%', 'G/Sh', 'G/SoT', 'ShoDist', 'PasTotCmp', 'PasTotAtt', 'PasTotCmp%', 'PasTotDist', 'PasTotPrgDist', 'PasShoCmp', 'PasShoAtt', 'PasShoCmp%', 'PasMedCmp', 'PasMedAtt', 'PasMedCmp%', 'PasLonCmp', 'PasLonAtt', 'PasLonCmp%', 'Assists', 'PasAss', 'Pas3rd', 'PPA', 'CrsPA', 'PasProg', 'PasAtt', 'PasLive', 'PasDead', 'PasFK', 'Sw', 'PasCrs', 'PasCmp', 'PasOff', 'PasBlocks', 'SCA', 'ScaPassLive', 'ScaPassDead', 'ScaDrib', 'ScaSh', 'ScaFld', 'ScaDef', 'GCA', 'GcaPassLive', 'GcaPassDead', 'GcaDrib', 'GcaSh', 'GcaFld', 'GcaDef', 'Tkl', 'TklWon', 'TklDef3rd', 'TklMid3rd', 'TklAtt3rd', 'TklDri', 'TklDriAtt', 'TklDri%', 'TklDriPast', 'Blocks', 'BlkSh', 'BlkPass', 'Int', 'Tkl+Int', 'Clr', 'Touches', 'TouDefPen', 'TouDef3rd', 'TouMid3rd', 'TouAtt3rd', 'TouAttPen', 'TouLive', 'Carries', 'CarTotDist', 'CarPrgDist', 'CarProg', 'Car3rd', 'CPA', 'CarMis', 'CarDis', 'Rec', 'RecProg', 'CrdY', 'Fls', 'Fld', 'Off', 'Crs', 'TklW', 'PKwon', 'PKcon', 'Recov', 'AerWon', 'AerLost', 'AerWon%', 'Player', 'clmd_4']\n"
          ]
        }
      ]
    },
    {
      "cell_type": "code",
      "source": [
        "ht_scale.shape"
      ],
      "metadata": {
        "colab": {
          "base_uri": "https://localhost:8080/"
        },
        "id": "3Q8Lj4Hs9LWx",
        "outputId": "8820696a-b186-4bba-a4e7-2d986130e30a"
      },
      "execution_count": 39,
      "outputs": [
        {
          "output_type": "execute_result",
          "data": {
            "text/plain": [
              "(68, 96)"
            ]
          },
          "metadata": {},
          "execution_count": 39
        }
      ]
    },
    {
      "cell_type": "code",
      "source": [
        "# Splitting the training and test data\n",
        "import numpy as np\n",
        "\n",
        "np.random.seed(12345)\n",
        "\n",
        "# Converting 'clmd_4' to a categorical variable\n",
        "ht_scale['clmd_4'] = ht_scale['clmd_4'].astype('category')\n",
        "\n",
        "# Creating indices and shuffling them\n",
        "indices = np.arange(len(ht_scale))\n",
        "shuffled_indices = np.random.permutation(indices)\n",
        "\n",
        "# Defining the proportion for training data\n",
        "train_proportion = 0.8\n",
        "\n",
        "# Calculating the number of samples for training\n",
        "num_train = round(train_proportion * len(ht_scale))\n",
        "\n",
        "# Splitting the data into training and testing sets\n",
        "train = ht_scale.iloc[shuffled_indices[:num_train]]\n",
        "test = ht_scale.iloc[shuffled_indices[num_train:]]\n",
        "\n",
        "# Displaying the first few rows of the training set\n",
        "print(\"Training Set:\")\n",
        "print(train.head())\n",
        "\n",
        "# Displaying the first few rows of the testing set\n",
        "print(\"\\nTesting Set:\")\n",
        "print(test.head())\n"
      ],
      "metadata": {
        "colab": {
          "base_uri": "https://localhost:8080/"
        },
        "id": "YRDArCbPl8J6",
        "outputId": "90a823fe-74b3-4f9a-dea3-418f38b3cada"
      },
      "execution_count": 36,
      "outputs": [
        {
          "output_type": "stream",
          "name": "stdout",
          "text": [
            "Training Set:\n",
            "       Goals     Shots       SoT      SoT%      G/Sh  G/SoT   ShoDist  \\\n",
            "60  0.000000  0.080000  0.125984  0.555000  0.000000   0.00  0.305085   \n",
            "47  0.166667  0.200000  0.196850  0.513333  0.444444   0.38  0.073446   \n",
            "58  0.000000  0.000000  0.055118  0.416667  0.000000   0.00  0.683616   \n",
            "43  0.074074  0.272727  0.188976  0.400000  0.148148   0.17  0.457627   \n",
            "51  0.444444  0.374545  0.338583  0.555000  0.666667   0.55  0.316384   \n",
            "\n",
            "    PasTotCmp  PasTotAtt  PasTotCmp%  ...       Crs      TklW  PKwon  \\\n",
            "60   0.339450   0.356589    0.631034  ...  0.078818  0.274419    0.0   \n",
            "47   0.362385   0.404651    0.555172  ...  0.071429  0.916279    0.0   \n",
            "58   0.527523   0.505426    0.906897  ...  0.059113  0.334884    0.0   \n",
            "43   0.383792   0.376744    0.765517  ...  0.059113  0.386047    0.0   \n",
            "51   0.278287   0.246512    0.786207  ...  0.133005  0.474419    0.0   \n",
            "\n",
            "       PKcon     Recov    AerWon   AerLost   AerWon%              Player  \\\n",
            "60  0.000000  0.458599  0.547619  0.205333  0.927894   Boubakary Soumaré   \n",
            "47  0.000000  0.974522  0.391534  0.458667  0.521822  Christian Nørgaard   \n",
            "58  0.000000  0.461146  0.129630  0.146667  0.525617        Oliver Skipp   \n",
            "43  0.333333  0.707006  0.629630  0.248000  0.925996     Scott McTominay   \n",
            "51  0.000000  0.193631  0.137566  0.213333  0.430740        Jacob Ramsey   \n",
            "\n",
            "    clmd_4  \n",
            "60       0  \n",
            "47       0  \n",
            "58       1  \n",
            "43       1  \n",
            "51       3  \n",
            "\n",
            "[5 rows x 96 columns]\n",
            "\n",
            "Testing Set:\n",
            "       Goals     Shots       SoT      SoT%      G/Sh  G/SoT   ShoDist  \\\n",
            "64  0.000000  0.101818  0.031496  0.118333  0.000000   0.00  0.451977   \n",
            "14  0.574074  0.792727  0.629921  0.541667  0.481481   0.38  0.508475   \n",
            "49  0.166667  0.614545  0.314961  0.341667  0.185185   0.22  0.514124   \n",
            "54  0.111111  0.196364  0.102362  0.266667  0.296296   0.50  0.502825   \n",
            "66  0.092593  0.280000  0.110236  0.216667  0.148148   0.33  0.593220   \n",
            "\n",
            "    PasTotCmp  PasTotAtt  PasTotCmp%  ...       Crs      TklW  PKwon  \\\n",
            "64   0.293578   0.404651    0.237931  ...  0.337438  0.200000    0.0   \n",
            "14   0.443425   0.555039    0.413793  ...  0.536946  0.404651    0.0   \n",
            "49   0.467890   0.471318    0.782759  ...  0.009852  0.623256    0.0   \n",
            "54   0.446483   0.472868    0.686207  ...  0.034483  0.562791    0.0   \n",
            "66   0.556575   0.565891    0.813793  ...  0.110837  0.237209    0.0   \n",
            "\n",
            "       PKcon     Recov    AerWon   AerLost   AerWon%           Player  clmd_4  \n",
            "64  0.333333  0.681529  0.021164  0.120000  0.261860  Ashley Westwood       0  \n",
            "14  0.000000  0.268790  0.105820  0.144000  0.472486  Bruno Fernandes       2  \n",
            "49  0.000000  0.643312  0.187831  0.218667  0.521822    Thomas Partey       1  \n",
            "54  0.000000  1.000000  0.518519  0.384000  0.703985      Oriol Romeu       1  \n",
            "66  0.416667  0.575796  0.322751  0.234667  0.688805     Granit Xhaka       1  \n",
            "\n",
            "[5 rows x 96 columns]\n"
          ]
        }
      ]
    },
    {
      "cell_type": "markdown",
      "source": [
        "##Modelling\n",
        "\n",
        "\n",
        "> Indented block\n",
        "\n"
      ],
      "metadata": {
        "id": "bn0dyZ0HzEmF"
      }
    },
    {
      "cell_type": "markdown",
      "source": [
        "### Random Forest"
      ],
      "metadata": {
        "id": "pyAfS4uIzO0i"
      }
    },
    {
      "cell_type": "code",
      "source": [
        "import numpy as np\n",
        "import pandas as pd\n",
        "from sklearn.ensemble import RandomForestClassifier\n",
        "from sklearn.metrics import confusion_matrix, accuracy_score\n",
        "from sklearn.model_selection import train_test_split\n",
        "\n",
        "# Set seed (Random seed is not directly available in scikit-learn, so you can use random_state)\n",
        "np.random.seed(123)\n",
        "\n",
        "\n",
        "#exclude_columns = [94, 95]\n",
        "X_train = train.drop(train.columns[[94,95]], axis=1)\n",
        "y_train = train['clmd_4']\n",
        "X_test = test.drop(test.columns[[94,95]], axis=1)\n",
        "y_test = test['clmd_4']\n",
        "\n",
        "# Run Random Forest with 25 trees\n",
        "rf_model = RandomForestClassifier(n_estimators=25, max_features=42, random_state=123)\n",
        "rf_model.fit(X_train, y_train)\n",
        "\n",
        "# Make predictions on the test set\n",
        "yhat_rf = rf_model.predict(X_test)\n",
        "\n",
        "# Create a confusion matrix\n",
        "conf_matrix = confusion_matrix(y_test, yhat_rf)\n",
        "print(conf_matrix)\n",
        "\n",
        "# Calculate the error rate\n",
        "error_rate = np.mean(y_test != yhat_rf)\n",
        "\n",
        "# Print the accuracy\n",
        "accuracy_percentage = (1 - error_rate) * 100\n",
        "print(f\"Accuracy: {accuracy_percentage:.2f}%\")\n",
        "\n",
        "#92.86% Accuracy\n"
      ],
      "metadata": {
        "colab": {
          "base_uri": "https://localhost:8080/"
        },
        "id": "nrz5GguvzRex",
        "outputId": "b03522ef-e103-4bc8-efac-54c3bea1fa41"
      },
      "execution_count": 37,
      "outputs": [
        {
          "output_type": "stream",
          "name": "stdout",
          "text": [
            "[[6 0 0 0]\n",
            " [0 3 0 0]\n",
            " [0 1 2 0]\n",
            " [0 0 0 2]]\n",
            "Accuracy: 92.86%\n"
          ]
        }
      ]
    },
    {
      "cell_type": "code",
      "source": [
        "acc = accuracy_score(y_test, yhat_rf)\n",
        "acc"
      ],
      "metadata": {
        "colab": {
          "base_uri": "https://localhost:8080/"
        },
        "id": "SKlIuSp33HCE",
        "outputId": "b514aaf5-4a51-4a46-b0da-7ab00ab789a7"
      },
      "execution_count": 41,
      "outputs": [
        {
          "output_type": "execute_result",
          "data": {
            "text/plain": [
              "0.9285714285714286"
            ]
          },
          "metadata": {},
          "execution_count": 41
        }
      ]
    },
    {
      "cell_type": "markdown",
      "source": [
        "## Support Vector Machines\n",
        "\n",
        "\n"
      ],
      "metadata": {
        "id": "lGpfjlEgEXX1"
      }
    },
    {
      "cell_type": "code",
      "source": [
        "from sklearn import svm\n",
        "from sklearn.metrics import accuracy_score\n",
        "\n",
        "svmodel = svm.SVC(kernel='poly')\n",
        "svmodel.fit(X_train, y_train)\n",
        "\n",
        "predictions = svmodel.predict(X_test)\n",
        "\n",
        "conf_matrix = pd.crosstab(index=test['clmd_4'], columns=predictions, rownames=['Actual'], colnames=['Predicted'])\n",
        "\n",
        "accuracy= accuracy_score(y_test, predictions)\n",
        "\n",
        "print(conf_matrix)\n",
        "print(accuracy)\n",
        "\n",
        "#radial (rbf) = 85.71%\n",
        "#polynomial (poly) = 92.86\n",
        "#linear = 92.86\n"
      ],
      "metadata": {
        "colab": {
          "base_uri": "https://localhost:8080/"
        },
        "id": "Dame9IwcG0e3",
        "outputId": "1b083cdf-9afb-4c96-8e79-6057d05318bd"
      },
      "execution_count": 51,
      "outputs": [
        {
          "output_type": "stream",
          "name": "stdout",
          "text": [
            "Predicted  0  1  2  3\n",
            "Actual               \n",
            "0          5  1  0  0\n",
            "1          0  3  0  0\n",
            "2          0  0  3  0\n",
            "3          0  0  0  2\n",
            "0.9285714285714286\n"
          ]
        }
      ]
    },
    {
      "cell_type": "markdown",
      "source": [
        "## Pickling The Model File For Deployment"
      ],
      "metadata": {
        "id": "M_IdqWT6w9EX"
      }
    },
    {
      "cell_type": "code",
      "source": [
        "import pickle"
      ],
      "metadata": {
        "id": "CoRYRhtvxGQy"
      },
      "execution_count": 52,
      "outputs": []
    },
    {
      "cell_type": "code",
      "source": [
        "# I am pickilng the Support Vector Machine Model with a Polynomiql Kernel\n",
        "pickle.dump(svmodel, open('svmpoly.pkl', 'wb'))"
      ],
      "metadata": {
        "id": "15SNjwwkxNlg"
      },
      "execution_count": 54,
      "outputs": []
    },
    {
      "cell_type": "code",
      "source": [],
      "metadata": {
        "id": "xGZs1MKGyQca"
      },
      "execution_count": 56,
      "outputs": []
    },
    {
      "cell_type": "code",
      "source": [],
      "metadata": {
        "id": "e6h61PhPy7iG"
      },
      "execution_count": null,
      "outputs": []
    }
  ]
}